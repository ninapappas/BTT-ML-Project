{
 "cells": [
  {
   "cell_type": "markdown",
   "metadata": {},
   "source": [
    "# Lab 8: Define and Solve an ML Problem of Your Choosing"
   ]
  },
  {
   "cell_type": "code",
   "execution_count": 4,
   "metadata": {},
   "outputs": [],
   "source": [
    "import pandas as pd\n",
    "import numpy as np\n",
    "import os \n",
    "import matplotlib.pyplot as plt\n",
    "import seaborn as sns\n",
    "import scipy.stats as stats"
   ]
  },
  {
   "cell_type": "markdown",
   "metadata": {},
   "source": [
    "In this lab assignment, you will follow the machine learning life cycle and implement a model to solve a machine learning problem of your choosing. You will select a data set and choose a predictive problem that the data set supports.  You will then inspect the data with your problem in mind and begin to formulate a  project plan. You will then implement the machine learning project plan. \n",
    "\n",
    "You will complete the following tasks:\n",
    "\n",
    "1. Build Your DataFrame\n",
    "2. Define Your ML Problem\n",
    "3. Perform exploratory data analysis to understand your data.\n",
    "4. Define Your Project Plan\n",
    "5. Implement Your Project Plan:\n",
    "    * Prepare your data for your model.\n",
    "    * Fit your model to the training data and evaluate your model.\n",
    "    * Improve your model's performance."
   ]
  },
  {
   "cell_type": "markdown",
   "metadata": {},
   "source": [
    "## Part 1: Build Your DataFrame\n",
    "\n",
    "You will have the option to choose one of four data sets that you have worked with in this program:\n",
    "\n",
    "* The \"census\" data set that contains Census information from 1994: `censusData.csv`\n",
    "* Airbnb NYC \"listings\" data set: `airbnbListingsData.csv`\n",
    "* World Happiness Report (WHR) data set: `WHR2018Chapter2OnlineData.csv`\n",
    "* Book Review data set: `bookReviewsData.csv`\n",
    "\n",
    "Note that these are variations of the data sets that you have worked with in this program. For example, some do not include some of the preprocessing necessary for specific models. \n",
    "\n",
    "#### Load a Data Set and Save it as a Pandas DataFrame\n",
    "\n",
    "The code cell below contains filenames (path + filename) for each of the four data sets available to you.\n",
    "\n",
    "<b>Task:</b> In the code cell below, use the same method you have been using to load the data using `pd.read_csv()` and save it to DataFrame `df`. \n",
    "\n",
    "You can load each file as a new DataFrame to inspect the data before choosing your data set."
   ]
  },
  {
   "cell_type": "code",
   "execution_count": 5,
   "metadata": {},
   "outputs": [
    {
     "data": {
      "text/html": [
       "<div>\n",
       "<style scoped>\n",
       "    .dataframe tbody tr th:only-of-type {\n",
       "        vertical-align: middle;\n",
       "    }\n",
       "\n",
       "    .dataframe tbody tr th {\n",
       "        vertical-align: top;\n",
       "    }\n",
       "\n",
       "    .dataframe thead th {\n",
       "        text-align: right;\n",
       "    }\n",
       "</style>\n",
       "<table border=\"1\" class=\"dataframe\">\n",
       "  <thead>\n",
       "    <tr style=\"text-align: right;\">\n",
       "      <th></th>\n",
       "      <th>age</th>\n",
       "      <th>workclass</th>\n",
       "      <th>fnlwgt</th>\n",
       "      <th>education</th>\n",
       "      <th>education-num</th>\n",
       "      <th>marital-status</th>\n",
       "      <th>occupation</th>\n",
       "      <th>relationship</th>\n",
       "      <th>race</th>\n",
       "      <th>sex_selfID</th>\n",
       "      <th>capital-gain</th>\n",
       "      <th>capital-loss</th>\n",
       "      <th>hours-per-week</th>\n",
       "      <th>native-country</th>\n",
       "      <th>income_binary</th>\n",
       "    </tr>\n",
       "  </thead>\n",
       "  <tbody>\n",
       "    <tr>\n",
       "      <th>0</th>\n",
       "      <td>39.0</td>\n",
       "      <td>State-gov</td>\n",
       "      <td>77516</td>\n",
       "      <td>Bachelors</td>\n",
       "      <td>13</td>\n",
       "      <td>Never-married</td>\n",
       "      <td>Adm-clerical</td>\n",
       "      <td>Not-in-family</td>\n",
       "      <td>White</td>\n",
       "      <td>Non-Female</td>\n",
       "      <td>2174</td>\n",
       "      <td>0</td>\n",
       "      <td>40.0</td>\n",
       "      <td>United-States</td>\n",
       "      <td>&lt;=50K</td>\n",
       "    </tr>\n",
       "    <tr>\n",
       "      <th>1</th>\n",
       "      <td>50.0</td>\n",
       "      <td>Self-emp-not-inc</td>\n",
       "      <td>83311</td>\n",
       "      <td>Bachelors</td>\n",
       "      <td>13</td>\n",
       "      <td>Married-civ-spouse</td>\n",
       "      <td>Exec-managerial</td>\n",
       "      <td>Husband</td>\n",
       "      <td>White</td>\n",
       "      <td>Non-Female</td>\n",
       "      <td>0</td>\n",
       "      <td>0</td>\n",
       "      <td>13.0</td>\n",
       "      <td>United-States</td>\n",
       "      <td>&lt;=50K</td>\n",
       "    </tr>\n",
       "    <tr>\n",
       "      <th>2</th>\n",
       "      <td>38.0</td>\n",
       "      <td>Private</td>\n",
       "      <td>215646</td>\n",
       "      <td>HS-grad</td>\n",
       "      <td>9</td>\n",
       "      <td>Divorced</td>\n",
       "      <td>Handlers-cleaners</td>\n",
       "      <td>Not-in-family</td>\n",
       "      <td>White</td>\n",
       "      <td>Non-Female</td>\n",
       "      <td>0</td>\n",
       "      <td>0</td>\n",
       "      <td>40.0</td>\n",
       "      <td>United-States</td>\n",
       "      <td>&lt;=50K</td>\n",
       "    </tr>\n",
       "    <tr>\n",
       "      <th>3</th>\n",
       "      <td>53.0</td>\n",
       "      <td>Private</td>\n",
       "      <td>234721</td>\n",
       "      <td>11th</td>\n",
       "      <td>7</td>\n",
       "      <td>Married-civ-spouse</td>\n",
       "      <td>Handlers-cleaners</td>\n",
       "      <td>Husband</td>\n",
       "      <td>Black</td>\n",
       "      <td>Non-Female</td>\n",
       "      <td>0</td>\n",
       "      <td>0</td>\n",
       "      <td>40.0</td>\n",
       "      <td>United-States</td>\n",
       "      <td>&lt;=50K</td>\n",
       "    </tr>\n",
       "    <tr>\n",
       "      <th>4</th>\n",
       "      <td>28.0</td>\n",
       "      <td>Private</td>\n",
       "      <td>338409</td>\n",
       "      <td>Bachelors</td>\n",
       "      <td>13</td>\n",
       "      <td>Married-civ-spouse</td>\n",
       "      <td>Prof-specialty</td>\n",
       "      <td>Wife</td>\n",
       "      <td>Black</td>\n",
       "      <td>Female</td>\n",
       "      <td>0</td>\n",
       "      <td>0</td>\n",
       "      <td>40.0</td>\n",
       "      <td>Cuba</td>\n",
       "      <td>&lt;=50K</td>\n",
       "    </tr>\n",
       "  </tbody>\n",
       "</table>\n",
       "</div>"
      ],
      "text/plain": [
       "    age         workclass  fnlwgt  education  education-num  \\\n",
       "0  39.0         State-gov   77516  Bachelors             13   \n",
       "1  50.0  Self-emp-not-inc   83311  Bachelors             13   \n",
       "2  38.0           Private  215646    HS-grad              9   \n",
       "3  53.0           Private  234721       11th              7   \n",
       "4  28.0           Private  338409  Bachelors             13   \n",
       "\n",
       "       marital-status         occupation   relationship   race  sex_selfID  \\\n",
       "0       Never-married       Adm-clerical  Not-in-family  White  Non-Female   \n",
       "1  Married-civ-spouse    Exec-managerial        Husband  White  Non-Female   \n",
       "2            Divorced  Handlers-cleaners  Not-in-family  White  Non-Female   \n",
       "3  Married-civ-spouse  Handlers-cleaners        Husband  Black  Non-Female   \n",
       "4  Married-civ-spouse     Prof-specialty           Wife  Black      Female   \n",
       "\n",
       "   capital-gain  capital-loss  hours-per-week native-country income_binary  \n",
       "0          2174             0            40.0  United-States         <=50K  \n",
       "1             0             0            13.0  United-States         <=50K  \n",
       "2             0             0            40.0  United-States         <=50K  \n",
       "3             0             0            40.0  United-States         <=50K  \n",
       "4             0             0            40.0           Cuba         <=50K  "
      ]
     },
     "execution_count": 5,
     "metadata": {},
     "output_type": "execute_result"
    }
   ],
   "source": [
    "# File names of the four data sets\n",
    "adultDataSet_filename = os.path.join(os.getcwd(), \"data\", \"censusData.csv\")\n",
    "airbnbDataSet_filename = os.path.join(os.getcwd(), \"data\", \"airbnbListingsData.csv\")\n",
    "WHRDataSet_filename = os.path.join(os.getcwd(), \"data\", \"WHR2018Chapter2OnlineData.csv\")\n",
    "bookReviewDataSet_filename = os.path.join(os.getcwd(), \"data\", \"bookReviewsData.csv\")\n",
    "\n",
    "df = pd.read_csv(adultDataSet_filename, header=0)# YOUR CODE HERE\n",
    "\n",
    "df.head()"
   ]
  },
  {
   "cell_type": "markdown",
   "metadata": {},
   "source": [
    "## Part 2: Define Your ML Problem\n",
    "\n",
    "Next you will formulate your ML Problem. In the markdown cell below, answer the following questions:\n",
    "\n",
    "1. List the data set you have chosen.\n",
    "2. What will you be predicting? What is the label?\n",
    "3. Is this a supervised or unsupervised learning problem? Is this a clustering, classification or regression problem? Is it a binary classificaiton or multi-class classifiction problem?\n",
    "4. What are your features? (note: this list may change after your explore your data)\n",
    "5. Explain why this is an important problem. In other words, how would a company create value with a model that predicts this label?"
   ]
  },
  {
   "cell_type": "markdown",
   "metadata": {},
   "source": [
    "<Double click this Markdown cell to make it editable, and record your answers here.>\n",
    "\n",
    "1. Adult census dataset\n",
    "2. We will be predicting the individual's highest educational status. Our label will be the \"education\" column.\n",
    "3. This is a supervised learning classification problem. Since there are multiple educational levels, we are gonna try a binary or a multi-class classification approach.\n",
    "4. Workclass, age, education-num, occupation, hours-per-week, native-country, income-binary.\n",
    "5. Banks when chosing who to give loans/credit cards to may want to look at the individual’s education. Additionally, educational companies such as Khan Academy may want to see their audience’s education statuses to produce specifically catered products for their level to to figure out for which group is their products most popula."
   ]
  },
  {
   "cell_type": "markdown",
   "metadata": {},
   "source": [
    "## Part 3: Understand Your Data\n",
    "\n",
    "The next step is to perform exploratory data analysis. Inspect and analyze your data set with your machine learning problem in mind. Consider the following as you inspect your data:\n",
    "\n",
    "1. What data preparation techniques would you like to use? These data preparation techniques may include:\n",
    "\n",
    "    * addressing missingness, such as replacing missing values with means\n",
    "    * finding and replacing outliers\n",
    "    * renaming features and labels\n",
    "    * finding and replacing outliers\n",
    "    * performing feature engineering techniques such as one-hot encoding on categorical features\n",
    "    * selecting appropriate features and removing irrelevant features\n",
    "    * performing specific data cleaning and preprocessing techniques for an NLP problem\n",
    "    * addressing class imbalance in your data sample to promote fair AI\n",
    "    \n",
    "\n",
    "2. What machine learning model (or models) you would like to use that is suitable for your predictive problem and data?\n",
    "    * Are there other data preparation techniques that you will need to apply to build a balanced modeling data set for your problem and model? For example, will you need to scale your data?\n",
    " \n",
    " \n",
    "3. How will you evaluate and improve the model's performance?\n",
    "    * Are there specific evaluation metrics and methods that are appropriate for your model?\n",
    "    \n",
    "\n",
    "Think of the different techniques you have used to inspect and analyze your data in this course. These include using Pandas to apply data filters, using the Pandas `describe()` method to get insight into key statistics for each column, using the Pandas `dtypes` property to inspect the data type of each column, and using Matplotlib and Seaborn to detect outliers and visualize relationships between features and labels. If you are working on a classification problem, use techniques you have learned to determine if there is class imbalance.\n",
    "\n",
    "<b>Task</b>: Use the techniques you have learned in this course to inspect and analyze your data. You can import additional packages that you have used in this course that you will need to perform this task.\n",
    "\n",
    "<b>Note</b>: You can add code cells if needed by going to the <b>Insert</b> menu and clicking on <b>Insert Cell Below</b> in the drop-drown menu."
   ]
  },
  {
   "cell_type": "code",
   "execution_count": 6,
   "metadata": {},
   "outputs": [],
   "source": [
    "from sklearn.preprocessing import StandardScaler\n",
    "from sklearn.preprocessing import OneHotEncoder"
   ]
  },
  {
   "cell_type": "code",
   "execution_count": 7,
   "metadata": {},
   "outputs": [
    {
     "data": {
      "text/plain": [
       "age               float64\n",
       "workclass          object\n",
       "occupation         object\n",
       "hours-per-week    float64\n",
       "native-country     object\n",
       "dtype: object"
      ]
     },
     "execution_count": 7,
     "metadata": {},
     "output_type": "execute_result"
    }
   ],
   "source": [
    "# YOUR CODE HERE\n",
    "\n",
    "#Find missing values\n",
    "null_vals = np.sum(df.isnull(), axis=0)\n",
    "missing_cond = null_vals != 0 \n",
    "missing_cols = list(null_vals[missing_cond].index)\n",
    "df[missing_cols].dtypes"
   ]
  },
  {
   "cell_type": "markdown",
   "metadata": {},
   "source": [
    "### Imputing missing values"
   ]
  },
  {
   "cell_type": "code",
   "execution_count": 8,
   "metadata": {},
   "outputs": [
    {
     "name": "stdout",
     "output_type": "stream",
     "text": [
      "Imputed age with mean value: 38.59\n",
      "Imputed hours-per-week with mean value: 40.45\n",
      "Filled categorical workclass with 'Missing'\n",
      "Filled categorical occupation with 'Missing'\n",
      "Filled categorical native-country with 'Missing'\n"
     ]
    },
    {
     "data": {
      "text/plain": [
       "age               0\n",
       "workclass         0\n",
       "fnlwgt            0\n",
       "education         0\n",
       "education-num     0\n",
       "marital-status    0\n",
       "occupation        0\n",
       "relationship      0\n",
       "race              0\n",
       "sex_selfID        0\n",
       "capital-gain      0\n",
       "capital-loss      0\n",
       "hours-per-week    0\n",
       "native-country    0\n",
       "income_binary     0\n",
       "dtype: int64"
      ]
     },
     "execution_count": 8,
     "metadata": {},
     "output_type": "execute_result"
    }
   ],
   "source": [
    "#Replace float type features\n",
    "\n",
    "nan_detected = df.isnull().any()\n",
    "\n",
    "is_numeric = (df.dtypes == 'float64')\n",
    "\n",
    "nan_num_features = df.columns[nan_detected & is_numeric].tolist()\n",
    "\n",
    "for col in nan_num_features:\n",
    "    mean_val = df[col].mean()\n",
    "    df.fillna({col: mean_val}, inplace=True)\n",
    "    print(f\"Imputed {col} with mean value: {mean_val:.2f}\")\n",
    "\n",
    "\n",
    "#Replace object type features \n",
    "\n",
    "is_categorical = (df.dtypes == 'object')\n",
    "nan_categorical_features = df.columns[nan_detected & is_categorical].tolist()\n",
    "\n",
    "for col in nan_categorical_features:\n",
    "    if col != 'education': \n",
    "        df.fillna({col: 'Missing'}, inplace=True) \n",
    "        print(f\"Filled categorical {col} with 'Missing'\")\n",
    "\n",
    "\n",
    "#Check for missing again \n",
    "np.sum(df.isnull(), axis=0)"
   ]
  },
  {
   "cell_type": "code",
   "execution_count": 9,
   "metadata": {},
   "outputs": [],
   "source": [
    "#Create binary variables\n",
    "df['workclass'].unique() \n",
    "\n",
    "not_self_employed = ~(df['workclass'] == 'Self-emp-inc') & ~(df['workclass'] == 'Self-emp-not-inc') \n",
    "condition = not_self_employed & ~(df['workclass'] == 'unknown')\n",
    "df['workclass'] = np.where(condition, 'Not-self-emp', df['workclass'])\n",
    "\n",
    "df['marital-status'].unique()\n",
    "\n",
    "not_married = ~(df['marital-status'] == 'Married-civ-spouse') & ~(df['marital-status'] == 'Married-spouse-absent') & ~(df['marital-status'] == 'Married-AF-spouse') \n",
    "df['marital-status'] = np.where(not_married, 'Not-married', df['marital-status'])\n"
   ]
  },
  {
   "cell_type": "markdown",
   "metadata": {},
   "source": [
    "### Winsorize"
   ]
  },
  {
   "cell_type": "code",
   "execution_count": 10,
   "metadata": {},
   "outputs": [
    {
     "data": {
      "image/png": "[encoded data removed]",
      "text/plain": [
       "<Figure size 432x288 with 1 Axes>"
      ]
     },
     "metadata": {
      "needs_background": "light"
     },
     "output_type": "display_data"
    }
   ],
   "source": [
    "#Find and fix outliers\n",
    "zscores = df.select_dtypes(include=['number']).apply(stats.zscore)\n",
    "zscores.head(20)\n",
    "\n",
    "plt.hist(df['education-num'], bins=10, edgecolor='black') \n",
    "plt.title('Education Num')\n",
    "plt.xlabel('Value')\n",
    "plt.ylabel('Frequency')\n",
    "plt.show()"
   ]
  },
  {
   "cell_type": "code",
   "execution_count": 11,
   "metadata": {},
   "outputs": [
    {
     "data": {
      "text/html": [
       "<div>\n",
       "<style scoped>\n",
       "    .dataframe tbody tr th:only-of-type {\n",
       "        vertical-align: middle;\n",
       "    }\n",
       "\n",
       "    .dataframe tbody tr th {\n",
       "        vertical-align: top;\n",
       "    }\n",
       "\n",
       "    .dataframe thead th {\n",
       "        text-align: right;\n",
       "    }\n",
       "</style>\n",
       "<table border=\"1\" class=\"dataframe\">\n",
       "  <thead>\n",
       "    <tr style=\"text-align: right;\">\n",
       "      <th></th>\n",
       "      <th>age</th>\n",
       "      <th>workclass</th>\n",
       "      <th>fnlwgt</th>\n",
       "      <th>education</th>\n",
       "      <th>marital-status</th>\n",
       "      <th>occupation</th>\n",
       "      <th>relationship</th>\n",
       "      <th>race</th>\n",
       "      <th>sex_selfID</th>\n",
       "      <th>capital-gain</th>\n",
       "      <th>capital-loss</th>\n",
       "      <th>hours-per-week</th>\n",
       "      <th>native-country</th>\n",
       "      <th>income_binary</th>\n",
       "      <th>education-num-winz</th>\n",
       "    </tr>\n",
       "  </thead>\n",
       "  <tbody>\n",
       "    <tr>\n",
       "      <th>0</th>\n",
       "      <td>39.0</td>\n",
       "      <td>Not-self-emp</td>\n",
       "      <td>77516</td>\n",
       "      <td>Bachelors</td>\n",
       "      <td>Not-married</td>\n",
       "      <td>Adm-clerical</td>\n",
       "      <td>Not-in-family</td>\n",
       "      <td>White</td>\n",
       "      <td>Non-Female</td>\n",
       "      <td>2174</td>\n",
       "      <td>0</td>\n",
       "      <td>40.0</td>\n",
       "      <td>United-States</td>\n",
       "      <td>&lt;=50K</td>\n",
       "      <td>13</td>\n",
       "    </tr>\n",
       "    <tr>\n",
       "      <th>1</th>\n",
       "      <td>50.0</td>\n",
       "      <td>Self-emp-not-inc</td>\n",
       "      <td>83311</td>\n",
       "      <td>Bachelors</td>\n",
       "      <td>Married-civ-spouse</td>\n",
       "      <td>Exec-managerial</td>\n",
       "      <td>Husband</td>\n",
       "      <td>White</td>\n",
       "      <td>Non-Female</td>\n",
       "      <td>0</td>\n",
       "      <td>0</td>\n",
       "      <td>13.0</td>\n",
       "      <td>United-States</td>\n",
       "      <td>&lt;=50K</td>\n",
       "      <td>13</td>\n",
       "    </tr>\n",
       "    <tr>\n",
       "      <th>2</th>\n",
       "      <td>38.0</td>\n",
       "      <td>Not-self-emp</td>\n",
       "      <td>215646</td>\n",
       "      <td>HS-grad</td>\n",
       "      <td>Not-married</td>\n",
       "      <td>Handlers-cleaners</td>\n",
       "      <td>Not-in-family</td>\n",
       "      <td>White</td>\n",
       "      <td>Non-Female</td>\n",
       "      <td>0</td>\n",
       "      <td>0</td>\n",
       "      <td>40.0</td>\n",
       "      <td>United-States</td>\n",
       "      <td>&lt;=50K</td>\n",
       "      <td>9</td>\n",
       "    </tr>\n",
       "    <tr>\n",
       "      <th>3</th>\n",
       "      <td>53.0</td>\n",
       "      <td>Not-self-emp</td>\n",
       "      <td>234721</td>\n",
       "      <td>11th</td>\n",
       "      <td>Married-civ-spouse</td>\n",
       "      <td>Handlers-cleaners</td>\n",
       "      <td>Husband</td>\n",
       "      <td>Black</td>\n",
       "      <td>Non-Female</td>\n",
       "      <td>0</td>\n",
       "      <td>0</td>\n",
       "      <td>40.0</td>\n",
       "      <td>United-States</td>\n",
       "      <td>&lt;=50K</td>\n",
       "      <td>7</td>\n",
       "    </tr>\n",
       "    <tr>\n",
       "      <th>4</th>\n",
       "      <td>28.0</td>\n",
       "      <td>Not-self-emp</td>\n",
       "      <td>338409</td>\n",
       "      <td>Bachelors</td>\n",
       "      <td>Married-civ-spouse</td>\n",
       "      <td>Prof-specialty</td>\n",
       "      <td>Wife</td>\n",
       "      <td>Black</td>\n",
       "      <td>Female</td>\n",
       "      <td>0</td>\n",
       "      <td>0</td>\n",
       "      <td>40.0</td>\n",
       "      <td>Cuba</td>\n",
       "      <td>&lt;=50K</td>\n",
       "      <td>13</td>\n",
       "    </tr>\n",
       "    <tr>\n",
       "      <th>5</th>\n",
       "      <td>37.0</td>\n",
       "      <td>Not-self-emp</td>\n",
       "      <td>284582</td>\n",
       "      <td>Masters</td>\n",
       "      <td>Married-civ-spouse</td>\n",
       "      <td>Exec-managerial</td>\n",
       "      <td>Wife</td>\n",
       "      <td>White</td>\n",
       "      <td>Female</td>\n",
       "      <td>0</td>\n",
       "      <td>0</td>\n",
       "      <td>40.0</td>\n",
       "      <td>United-States</td>\n",
       "      <td>&lt;=50K</td>\n",
       "      <td>14</td>\n",
       "    </tr>\n",
       "    <tr>\n",
       "      <th>6</th>\n",
       "      <td>49.0</td>\n",
       "      <td>Not-self-emp</td>\n",
       "      <td>160187</td>\n",
       "      <td>9th</td>\n",
       "      <td>Married-spouse-absent</td>\n",
       "      <td>Other-service</td>\n",
       "      <td>Not-in-family</td>\n",
       "      <td>Black</td>\n",
       "      <td>Female</td>\n",
       "      <td>0</td>\n",
       "      <td>0</td>\n",
       "      <td>16.0</td>\n",
       "      <td>Jamaica</td>\n",
       "      <td>&lt;=50K</td>\n",
       "      <td>5</td>\n",
       "    </tr>\n",
       "    <tr>\n",
       "      <th>7</th>\n",
       "      <td>52.0</td>\n",
       "      <td>Self-emp-not-inc</td>\n",
       "      <td>209642</td>\n",
       "      <td>HS-grad</td>\n",
       "      <td>Married-civ-spouse</td>\n",
       "      <td>Exec-managerial</td>\n",
       "      <td>Husband</td>\n",
       "      <td>White</td>\n",
       "      <td>Non-Female</td>\n",
       "      <td>0</td>\n",
       "      <td>0</td>\n",
       "      <td>45.0</td>\n",
       "      <td>United-States</td>\n",
       "      <td>&gt;50K</td>\n",
       "      <td>9</td>\n",
       "    </tr>\n",
       "    <tr>\n",
       "      <th>8</th>\n",
       "      <td>31.0</td>\n",
       "      <td>Not-self-emp</td>\n",
       "      <td>45781</td>\n",
       "      <td>Masters</td>\n",
       "      <td>Not-married</td>\n",
       "      <td>Prof-specialty</td>\n",
       "      <td>Not-in-family</td>\n",
       "      <td>White</td>\n",
       "      <td>Female</td>\n",
       "      <td>14084</td>\n",
       "      <td>0</td>\n",
       "      <td>50.0</td>\n",
       "      <td>United-States</td>\n",
       "      <td>&gt;50K</td>\n",
       "      <td>14</td>\n",
       "    </tr>\n",
       "    <tr>\n",
       "      <th>9</th>\n",
       "      <td>42.0</td>\n",
       "      <td>Not-self-emp</td>\n",
       "      <td>159449</td>\n",
       "      <td>Bachelors</td>\n",
       "      <td>Married-civ-spouse</td>\n",
       "      <td>Exec-managerial</td>\n",
       "      <td>Husband</td>\n",
       "      <td>White</td>\n",
       "      <td>Non-Female</td>\n",
       "      <td>5178</td>\n",
       "      <td>0</td>\n",
       "      <td>40.0</td>\n",
       "      <td>United-States</td>\n",
       "      <td>&gt;50K</td>\n",
       "      <td>13</td>\n",
       "    </tr>\n",
       "    <tr>\n",
       "      <th>10</th>\n",
       "      <td>37.0</td>\n",
       "      <td>Not-self-emp</td>\n",
       "      <td>280464</td>\n",
       "      <td>Some-college</td>\n",
       "      <td>Married-civ-spouse</td>\n",
       "      <td>Exec-managerial</td>\n",
       "      <td>Husband</td>\n",
       "      <td>Black</td>\n",
       "      <td>Non-Female</td>\n",
       "      <td>0</td>\n",
       "      <td>0</td>\n",
       "      <td>80.0</td>\n",
       "      <td>United-States</td>\n",
       "      <td>&gt;50K</td>\n",
       "      <td>10</td>\n",
       "    </tr>\n",
       "    <tr>\n",
       "      <th>11</th>\n",
       "      <td>30.0</td>\n",
       "      <td>Not-self-emp</td>\n",
       "      <td>141297</td>\n",
       "      <td>Bachelors</td>\n",
       "      <td>Married-civ-spouse</td>\n",
       "      <td>Prof-specialty</td>\n",
       "      <td>Husband</td>\n",
       "      <td>Asian-Pac-Islander</td>\n",
       "      <td>Non-Female</td>\n",
       "      <td>0</td>\n",
       "      <td>0</td>\n",
       "      <td>40.0</td>\n",
       "      <td>India</td>\n",
       "      <td>&gt;50K</td>\n",
       "      <td>13</td>\n",
       "    </tr>\n",
       "    <tr>\n",
       "      <th>12</th>\n",
       "      <td>23.0</td>\n",
       "      <td>Not-self-emp</td>\n",
       "      <td>122272</td>\n",
       "      <td>Bachelors</td>\n",
       "      <td>Not-married</td>\n",
       "      <td>Adm-clerical</td>\n",
       "      <td>Own-child</td>\n",
       "      <td>White</td>\n",
       "      <td>Female</td>\n",
       "      <td>0</td>\n",
       "      <td>0</td>\n",
       "      <td>30.0</td>\n",
       "      <td>United-States</td>\n",
       "      <td>&lt;=50K</td>\n",
       "      <td>13</td>\n",
       "    </tr>\n",
       "    <tr>\n",
       "      <th>13</th>\n",
       "      <td>32.0</td>\n",
       "      <td>Not-self-emp</td>\n",
       "      <td>205019</td>\n",
       "      <td>Assoc-acdm</td>\n",
       "      <td>Not-married</td>\n",
       "      <td>Sales</td>\n",
       "      <td>Not-in-family</td>\n",
       "      <td>Black</td>\n",
       "      <td>Non-Female</td>\n",
       "      <td>0</td>\n",
       "      <td>0</td>\n",
       "      <td>50.0</td>\n",
       "      <td>United-States</td>\n",
       "      <td>&lt;=50K</td>\n",
       "      <td>12</td>\n",
       "    </tr>\n",
       "    <tr>\n",
       "      <th>14</th>\n",
       "      <td>40.0</td>\n",
       "      <td>Not-self-emp</td>\n",
       "      <td>121772</td>\n",
       "      <td>Assoc-voc</td>\n",
       "      <td>Married-civ-spouse</td>\n",
       "      <td>Craft-repair</td>\n",
       "      <td>Husband</td>\n",
       "      <td>Asian-Pac-Islander</td>\n",
       "      <td>Non-Female</td>\n",
       "      <td>0</td>\n",
       "      <td>0</td>\n",
       "      <td>40.0</td>\n",
       "      <td>Missing</td>\n",
       "      <td>&gt;50K</td>\n",
       "      <td>11</td>\n",
       "    </tr>\n",
       "  </tbody>\n",
       "</table>\n",
       "</div>"
      ],
      "text/plain": [
       "     age         workclass  fnlwgt     education         marital-status  \\\n",
       "0   39.0      Not-self-emp   77516     Bachelors            Not-married   \n",
       "1   50.0  Self-emp-not-inc   83311     Bachelors     Married-civ-spouse   \n",
       "2   38.0      Not-self-emp  215646       HS-grad            Not-married   \n",
       "3   53.0      Not-self-emp  234721          11th     Married-civ-spouse   \n",
       "4   28.0      Not-self-emp  338409     Bachelors     Married-civ-spouse   \n",
       "5   37.0      Not-self-emp  284582       Masters     Married-civ-spouse   \n",
       "6   49.0      Not-self-emp  160187           9th  Married-spouse-absent   \n",
       "7   52.0  Self-emp-not-inc  209642       HS-grad     Married-civ-spouse   \n",
       "8   31.0      Not-self-emp   45781       Masters            Not-married   \n",
       "9   42.0      Not-self-emp  159449     Bachelors     Married-civ-spouse   \n",
       "10  37.0      Not-self-emp  280464  Some-college     Married-civ-spouse   \n",
       "11  30.0      Not-self-emp  141297     Bachelors     Married-civ-spouse   \n",
       "12  23.0      Not-self-emp  122272     Bachelors            Not-married   \n",
       "13  32.0      Not-self-emp  205019    Assoc-acdm            Not-married   \n",
       "14  40.0      Not-self-emp  121772     Assoc-voc     Married-civ-spouse   \n",
       "\n",
       "           occupation   relationship                race  sex_selfID  \\\n",
       "0        Adm-clerical  Not-in-family               White  Non-Female   \n",
       "1     Exec-managerial        Husband               White  Non-Female   \n",
       "2   Handlers-cleaners  Not-in-family               White  Non-Female   \n",
       "3   Handlers-cleaners        Husband               Black  Non-Female   \n",
       "4      Prof-specialty           Wife               Black      Female   \n",
       "5     Exec-managerial           Wife               White      Female   \n",
       "6       Other-service  Not-in-family               Black      Female   \n",
       "7     Exec-managerial        Husband               White  Non-Female   \n",
       "8      Prof-specialty  Not-in-family               White      Female   \n",
       "9     Exec-managerial        Husband               White  Non-Female   \n",
       "10    Exec-managerial        Husband               Black  Non-Female   \n",
       "11     Prof-specialty        Husband  Asian-Pac-Islander  Non-Female   \n",
       "12       Adm-clerical      Own-child               White      Female   \n",
       "13              Sales  Not-in-family               Black  Non-Female   \n",
       "14       Craft-repair        Husband  Asian-Pac-Islander  Non-Female   \n",
       "\n",
       "    capital-gain  capital-loss  hours-per-week native-country income_binary  \\\n",
       "0           2174             0            40.0  United-States         <=50K   \n",
       "1              0             0            13.0  United-States         <=50K   \n",
       "2              0             0            40.0  United-States         <=50K   \n",
       "3              0             0            40.0  United-States         <=50K   \n",
       "4              0             0            40.0           Cuba         <=50K   \n",
       "5              0             0            40.0  United-States         <=50K   \n",
       "6              0             0            16.0        Jamaica         <=50K   \n",
       "7              0             0            45.0  United-States          >50K   \n",
       "8          14084             0            50.0  United-States          >50K   \n",
       "9           5178             0            40.0  United-States          >50K   \n",
       "10             0             0            80.0  United-States          >50K   \n",
       "11             0             0            40.0          India          >50K   \n",
       "12             0             0            30.0  United-States         <=50K   \n",
       "13             0             0            50.0  United-States         <=50K   \n",
       "14             0             0            40.0        Missing          >50K   \n",
       "\n",
       "    education-num-winz  \n",
       "0                   13  \n",
       "1                   13  \n",
       "2                    9  \n",
       "3                    7  \n",
       "4                   13  \n",
       "5                   14  \n",
       "6                    5  \n",
       "7                    9  \n",
       "8                   14  \n",
       "9                   13  \n",
       "10                  10  \n",
       "11                  13  \n",
       "12                  13  \n",
       "13                  12  \n",
       "14                  11  "
      ]
     },
     "execution_count": 11,
     "metadata": {},
     "output_type": "execute_result"
    }
   ],
   "source": [
    "# Winsorize \n",
    "df['education-num-winz'] = stats.mstats.winsorize(df['education-num'], limits=[0.01, 0.01])\n",
    "df.drop(columns='education-num', inplace=True)\n",
    "df.head(15)"
   ]
  },
  {
   "cell_type": "markdown",
   "metadata": {},
   "source": [
    "## One hot encoding and scaling"
   ]
  },
  {
   "cell_type": "code",
   "execution_count": 12,
   "metadata": {},
   "outputs": [
    {
     "name": "stdout",
     "output_type": "stream",
     "text": [
      "workclass: 3 unique values\n",
      "marital-status: 4 unique values\n",
      "occupation: 15 unique values\n",
      "relationship: 6 unique values\n",
      "race: 5 unique values\n",
      "sex_selfID: 2 unique values\n",
      "native-country: 42 unique values\n",
      "income_binary: 2 unique values\n"
     ]
    }
   ],
   "source": [
    "# checking unique value in categorical columns\n",
    "categorical_features = df.columns[(df.dtypes == 'object') & (df.columns != 'education')].tolist()\n",
    "for col in categorical_features:\n",
    "    print(f\"{col}: {df[col].nunique()} unique values\")"
   ]
  },
  {
   "cell_type": "code",
   "execution_count": 13,
   "metadata": {},
   "outputs": [
    {
     "data": {
      "text/plain": [
       "array(['United-States', 'Other', 'India', 'Missing', 'Mexico',\n",
       "       'Puerto-Rico', 'Canada', 'Germany', 'Philippines', 'El-Salvador'],\n",
       "      dtype=object)"
      ]
     },
     "execution_count": 13,
     "metadata": {},
     "output_type": "execute_result"
    }
   ],
   "source": [
    "#reducing unique values for 'native-country' for one hot encode\n",
    "country_counts = df['native-country'].value_counts()\n",
    "rare_countries = country_counts[country_counts < 100].index\n",
    "df['native-country'] = df['native-country'].replace(rare_countries, 'Other')\n",
    "df['native-country'].unique()"
   ]
  },
  {
   "cell_type": "code",
   "execution_count": 14,
   "metadata": {},
   "outputs": [
    {
     "data": {
      "text/html": [
       "<div>\n",
       "<style scoped>\n",
       "    .dataframe tbody tr th:only-of-type {\n",
       "        vertical-align: middle;\n",
       "    }\n",
       "\n",
       "    .dataframe tbody tr th {\n",
       "        vertical-align: top;\n",
       "    }\n",
       "\n",
       "    .dataframe thead th {\n",
       "        text-align: right;\n",
       "    }\n",
       "</style>\n",
       "<table border=\"1\" class=\"dataframe\">\n",
       "  <thead>\n",
       "    <tr style=\"text-align: right;\">\n",
       "      <th></th>\n",
       "      <th>age</th>\n",
       "      <th>fnlwgt</th>\n",
       "      <th>education</th>\n",
       "      <th>capital-gain</th>\n",
       "      <th>capital-loss</th>\n",
       "      <th>hours-per-week</th>\n",
       "      <th>education-num-winz</th>\n",
       "      <th>workclass_Not-self-emp</th>\n",
       "      <th>workclass_Self-emp-inc</th>\n",
       "      <th>workclass_Self-emp-not-inc</th>\n",
       "      <th>...</th>\n",
       "      <th>native-country_Germany</th>\n",
       "      <th>native-country_India</th>\n",
       "      <th>native-country_Mexico</th>\n",
       "      <th>native-country_Missing</th>\n",
       "      <th>native-country_Other</th>\n",
       "      <th>native-country_Philippines</th>\n",
       "      <th>native-country_Puerto-Rico</th>\n",
       "      <th>native-country_United-States</th>\n",
       "      <th>income_binary_&lt;=50K</th>\n",
       "      <th>income_binary_&gt;50K</th>\n",
       "    </tr>\n",
       "  </thead>\n",
       "  <tbody>\n",
       "    <tr>\n",
       "      <th>0</th>\n",
       "      <td>39.0</td>\n",
       "      <td>77516</td>\n",
       "      <td>Bachelors</td>\n",
       "      <td>2174</td>\n",
       "      <td>0</td>\n",
       "      <td>40.0</td>\n",
       "      <td>13</td>\n",
       "      <td>1.0</td>\n",
       "      <td>0.0</td>\n",
       "      <td>0.0</td>\n",
       "      <td>...</td>\n",
       "      <td>0.0</td>\n",
       "      <td>0.0</td>\n",
       "      <td>0.0</td>\n",
       "      <td>0.0</td>\n",
       "      <td>0.0</td>\n",
       "      <td>0.0</td>\n",
       "      <td>0.0</td>\n",
       "      <td>1.0</td>\n",
       "      <td>1.0</td>\n",
       "      <td>0.0</td>\n",
       "    </tr>\n",
       "    <tr>\n",
       "      <th>1</th>\n",
       "      <td>50.0</td>\n",
       "      <td>83311</td>\n",
       "      <td>Bachelors</td>\n",
       "      <td>0</td>\n",
       "      <td>0</td>\n",
       "      <td>13.0</td>\n",
       "      <td>13</td>\n",
       "      <td>0.0</td>\n",
       "      <td>0.0</td>\n",
       "      <td>1.0</td>\n",
       "      <td>...</td>\n",
       "      <td>0.0</td>\n",
       "      <td>0.0</td>\n",
       "      <td>0.0</td>\n",
       "      <td>0.0</td>\n",
       "      <td>0.0</td>\n",
       "      <td>0.0</td>\n",
       "      <td>0.0</td>\n",
       "      <td>1.0</td>\n",
       "      <td>1.0</td>\n",
       "      <td>0.0</td>\n",
       "    </tr>\n",
       "    <tr>\n",
       "      <th>2</th>\n",
       "      <td>38.0</td>\n",
       "      <td>215646</td>\n",
       "      <td>HS-grad</td>\n",
       "      <td>0</td>\n",
       "      <td>0</td>\n",
       "      <td>40.0</td>\n",
       "      <td>9</td>\n",
       "      <td>1.0</td>\n",
       "      <td>0.0</td>\n",
       "      <td>0.0</td>\n",
       "      <td>...</td>\n",
       "      <td>0.0</td>\n",
       "      <td>0.0</td>\n",
       "      <td>0.0</td>\n",
       "      <td>0.0</td>\n",
       "      <td>0.0</td>\n",
       "      <td>0.0</td>\n",
       "      <td>0.0</td>\n",
       "      <td>1.0</td>\n",
       "      <td>1.0</td>\n",
       "      <td>0.0</td>\n",
       "    </tr>\n",
       "    <tr>\n",
       "      <th>3</th>\n",
       "      <td>53.0</td>\n",
       "      <td>234721</td>\n",
       "      <td>11th</td>\n",
       "      <td>0</td>\n",
       "      <td>0</td>\n",
       "      <td>40.0</td>\n",
       "      <td>7</td>\n",
       "      <td>1.0</td>\n",
       "      <td>0.0</td>\n",
       "      <td>0.0</td>\n",
       "      <td>...</td>\n",
       "      <td>0.0</td>\n",
       "      <td>0.0</td>\n",
       "      <td>0.0</td>\n",
       "      <td>0.0</td>\n",
       "      <td>0.0</td>\n",
       "      <td>0.0</td>\n",
       "      <td>0.0</td>\n",
       "      <td>1.0</td>\n",
       "      <td>1.0</td>\n",
       "      <td>0.0</td>\n",
       "    </tr>\n",
       "    <tr>\n",
       "      <th>4</th>\n",
       "      <td>28.0</td>\n",
       "      <td>338409</td>\n",
       "      <td>Bachelors</td>\n",
       "      <td>0</td>\n",
       "      <td>0</td>\n",
       "      <td>40.0</td>\n",
       "      <td>13</td>\n",
       "      <td>1.0</td>\n",
       "      <td>0.0</td>\n",
       "      <td>0.0</td>\n",
       "      <td>...</td>\n",
       "      <td>0.0</td>\n",
       "      <td>0.0</td>\n",
       "      <td>0.0</td>\n",
       "      <td>0.0</td>\n",
       "      <td>1.0</td>\n",
       "      <td>0.0</td>\n",
       "      <td>0.0</td>\n",
       "      <td>0.0</td>\n",
       "      <td>1.0</td>\n",
       "      <td>0.0</td>\n",
       "    </tr>\n",
       "  </tbody>\n",
       "</table>\n",
       "<p>5 rows × 54 columns</p>\n",
       "</div>"
      ],
      "text/plain": [
       "    age  fnlwgt  education  capital-gain  capital-loss  hours-per-week  \\\n",
       "0  39.0   77516  Bachelors          2174             0            40.0   \n",
       "1  50.0   83311  Bachelors             0             0            13.0   \n",
       "2  38.0  215646    HS-grad             0             0            40.0   \n",
       "3  53.0  234721       11th             0             0            40.0   \n",
       "4  28.0  338409  Bachelors             0             0            40.0   \n",
       "\n",
       "   education-num-winz  workclass_Not-self-emp  workclass_Self-emp-inc  \\\n",
       "0                  13                     1.0                     0.0   \n",
       "1                  13                     0.0                     0.0   \n",
       "2                   9                     1.0                     0.0   \n",
       "3                   7                     1.0                     0.0   \n",
       "4                  13                     1.0                     0.0   \n",
       "\n",
       "   workclass_Self-emp-not-inc  ...  native-country_Germany  \\\n",
       "0                         0.0  ...                     0.0   \n",
       "1                         1.0  ...                     0.0   \n",
       "2                         0.0  ...                     0.0   \n",
       "3                         0.0  ...                     0.0   \n",
       "4                         0.0  ...                     0.0   \n",
       "\n",
       "   native-country_India  native-country_Mexico  native-country_Missing  \\\n",
       "0                   0.0                    0.0                     0.0   \n",
       "1                   0.0                    0.0                     0.0   \n",
       "2                   0.0                    0.0                     0.0   \n",
       "3                   0.0                    0.0                     0.0   \n",
       "4                   0.0                    0.0                     0.0   \n",
       "\n",
       "   native-country_Other  native-country_Philippines  \\\n",
       "0                   0.0                         0.0   \n",
       "1                   0.0                         0.0   \n",
       "2                   0.0                         0.0   \n",
       "3                   0.0                         0.0   \n",
       "4                   1.0                         0.0   \n",
       "\n",
       "   native-country_Puerto-Rico  native-country_United-States  \\\n",
       "0                         0.0                           1.0   \n",
       "1                         0.0                           1.0   \n",
       "2                         0.0                           1.0   \n",
       "3                         0.0                           1.0   \n",
       "4                         0.0                           0.0   \n",
       "\n",
       "   income_binary_<=50K  income_binary_>50K  \n",
       "0                  1.0                 0.0  \n",
       "1                  1.0                 0.0  \n",
       "2                  1.0                 0.0  \n",
       "3                  1.0                 0.0  \n",
       "4                  1.0                 0.0  \n",
       "\n",
       "[5 rows x 54 columns]"
      ]
     },
     "execution_count": 14,
     "metadata": {},
     "output_type": "execute_result"
    }
   ],
   "source": [
    "# one hot encoding other categorical features\n",
    "to_encode = categorical_features\n",
    "\n",
    "# Create the encoder object\n",
    "enc = OneHotEncoder(sparse=False)\n",
    "\n",
    "# Apply the encoder to your categorical columns\n",
    "df_enc = pd.DataFrame(enc.fit_transform(df[to_encode]))\n",
    "\n",
    "# Get the feature names and assign them as column names\n",
    "df_enc.columns = enc.get_feature_names(input_features=to_encode)\n",
    "\n",
    "# Remove the original categorical columns from your dataframe\n",
    "df.drop(columns=to_encode, inplace=True)\n",
    "\n",
    "# Join the one-hot encoded features back to your main dataframe\n",
    "df = df.join(df_enc)\n",
    "\n",
    "# Verify the results\n",
    "df.head()\n"
   ]
  },
  {
   "cell_type": "code",
   "execution_count": 15,
   "metadata": {},
   "outputs": [
    {
     "data": {
      "text/plain": [
       "Index(['age', 'fnlwgt', 'education', 'capital-gain', 'capital-loss',\n",
       "       'hours-per-week', 'education-num-winz', 'workclass_Not-self-emp',\n",
       "       'workclass_Self-emp-inc', 'workclass_Self-emp-not-inc',\n",
       "       'marital-status_Married-AF-spouse', 'marital-status_Married-civ-spouse',\n",
       "       'marital-status_Married-spouse-absent', 'marital-status_Not-married',\n",
       "       'occupation_Adm-clerical', 'occupation_Armed-Forces',\n",
       "       'occupation_Craft-repair', 'occupation_Exec-managerial',\n",
       "       'occupation_Farming-fishing', 'occupation_Handlers-cleaners',\n",
       "       'occupation_Machine-op-inspct', 'occupation_Missing',\n",
       "       'occupation_Other-service', 'occupation_Priv-house-serv',\n",
       "       'occupation_Prof-specialty', 'occupation_Protective-serv',\n",
       "       'occupation_Sales', 'occupation_Tech-support',\n",
       "       'occupation_Transport-moving', 'relationship_Husband',\n",
       "       'relationship_Not-in-family', 'relationship_Other-relative',\n",
       "       'relationship_Own-child', 'relationship_Unmarried', 'relationship_Wife',\n",
       "       'race_Amer-Indian-Inuit', 'race_Asian-Pac-Islander', 'race_Black',\n",
       "       'race_Other', 'race_White', 'sex_selfID_Female',\n",
       "       'sex_selfID_Non-Female', 'native-country_Canada',\n",
       "       'native-country_El-Salvador', 'native-country_Germany',\n",
       "       'native-country_India', 'native-country_Mexico',\n",
       "       'native-country_Missing', 'native-country_Other',\n",
       "       'native-country_Philippines', 'native-country_Puerto-Rico',\n",
       "       'native-country_United-States', 'income_binary_<=50K',\n",
       "       'income_binary_>50K'],\n",
       "      dtype='object')"
      ]
     },
     "execution_count": 15,
     "metadata": {},
     "output_type": "execute_result"
    }
   ],
   "source": [
    "df.columns"
   ]
  },
  {
   "cell_type": "code",
   "execution_count": 16,
   "metadata": {},
   "outputs": [
    {
     "data": {
      "text/plain": [
       "(32561, 54)"
      ]
     },
     "execution_count": 16,
     "metadata": {},
     "output_type": "execute_result"
    }
   ],
   "source": [
    "# rows and columns after one-hot encoding\n",
    "df.shape"
   ]
  },
  {
   "cell_type": "markdown",
   "metadata": {},
   "source": [
    "### Bin the label"
   ]
  },
  {
   "cell_type": "code",
   "execution_count": 17,
   "metadata": {},
   "outputs": [
    {
     "data": {
      "text/plain": [
       "array(['College Degree', 'No College Degree'], dtype=object)"
      ]
     },
     "execution_count": 17,
     "metadata": {},
     "output_type": "execute_result"
    }
   ],
   "source": [
    "#Bin Education Categories \n",
    "df['education'].unique()\n",
    "\n",
    "def bin_education_binary(edu):\n",
    "    # College degree = 'Higher Education' or 'Some College'\n",
    "    if edu in ['Bachelors', 'Masters', 'Doctorate', 'Prof-school', 'Assoc-acdm', 'Assoc-voc', 'Some-college']:\n",
    "        return 'College Degree'\n",
    "    # No college degree = Everything else\n",
    "    else:\n",
    "        return 'No College Degree'\n",
    "\n",
    "df['education_binary'] = df['education'].apply(bin_education_binary)\n",
    "\n",
    "df['education_binary'].unique()"
   ]
  },
  {
   "cell_type": "markdown",
   "metadata": {},
   "source": [
    "### Scaling"
   ]
  },
  {
   "cell_type": "code",
   "execution_count": 18,
   "metadata": {},
   "outputs": [],
   "source": [
    "#Scaling the categorical columns to prepare for model training\n",
    "\n",
    "numerical_cols = df.columns[(df.dtypes == 'int64') | (df.dtypes == 'float64')].tolist()\n",
    "scaler = StandardScaler()\n",
    "df[numerical_cols] = scaler.fit_transform(df[numerical_cols])"
   ]
  },
  {
   "cell_type": "markdown",
   "metadata": {},
   "source": [
    "## Part 4: Define Your Project Plan\n",
    "\n",
    "Now that you understand your data, in the markdown cell below, define your plan to implement the remaining phases of the machine learning life cycle (data preparation, modeling, evaluation) to solve your ML problem. Answer the following questions:\n",
    "\n",
    "* Do you have a new feature list? If so, what are the features that you chose to keep and remove after inspecting the data? \n",
    "* Explain different data preparation techniques that you will use to prepare your data for modeling.\n",
    "* What is your model (or models)?\n",
    "* Describe your plan to train your model, analyze its performance and then improve the model. That is, describe your model building, validation and selection plan to produce a model that generalizes well to new data. "
   ]
  },
  {
   "cell_type": "markdown",
   "metadata": {},
   "source": [
    "<Double click this Markdown cell to make it editable, and record your answers here.>\n",
    "\n",
    "For this machine learning project, we will implement a comprehensive plan covering all phases of the machine learning lifecycle. First, we will refine the feature set by keeping age, workclass, occupation, hours-per-week, native-country, and income_binary while removing fnlwgt (due to irrelevance), education-num (to prevent data leakage), and demographic features race/sex_selfID (to avoid potential bias).\n",
    "\n",
    "For data preparation, we will handle missing values through mean imputation for numerical features and assign Missing labels for categorical variables. We will detect and address outliers using Z-scores and winsorization techniques. Categorical variables will be processed through one-hot encoding, and numerical features will be standardized using StandardScaler. The target variable (education_binary) will be converted to binary format (0/1), and we will verify class balance to determine if resampling is necessary.\n",
    "\n",
    "We will evaluate two models for this binary classification task: Logistic Regression as a baseline interpretable model and Random Forest or Gradient Boosting to capture potential nonlinear relationships in the data. The modeling process will begin with a 70/30 stratified train-test split of the data. We will employ 5-fold cross-validation during training to assess model stability and prevent overfitting.\n",
    "\n",
    "For model evaluation, we will primarily use AUC-ROC to account for the mild class imbalance, supplemented by acc score metrics. Model optimization will involve hyperparameter tuning through GridSearchCV - testing regularization strength (C) and penalty types for Logistic Regression, and max_depth, n_estimators, and min_samples_split for Random Forest. After initial tuning, we will perform feature selection using SelectKBest to identify the most predictive features.\n",
    "\n",
    "The final model selection will be based on test-set performance, prioritizing the model with the highest AUC score. We will validate generalization by comparing train and test performance, ensuring the gap remains below 5%. If overfitting is detected, we will implement strategies like reducing model complexity in Random Forest through shallower trees or higher min_samples_split values. Finally, we will deploy the selected model using pickle for reproducibility, ensuring the solution can be easily implemented in production environments.\n",
    "\n",
    "This planned approach will systematically address data preparation, model selection, performance optimization, and deployment while maintaining focus on fairness, avoiding data leakage, and preserving model interpretability throughout the machine learning pipeline."
   ]
  },
  {
   "cell_type": "markdown",
   "metadata": {},
   "source": [
    "## Part 5: Implement Your Project Plan\n",
    "\n",
    "<b>Task:</b> In the code cell below, import additional packages that you have used in this course that you will need to implement your project plan."
   ]
  },
  {
   "cell_type": "code",
   "execution_count": 19,
   "metadata": {},
   "outputs": [],
   "source": [
    "# YOUR CODE HERE\n",
    "from sklearn.preprocessing import LabelEncoder\n",
    "from sklearn.model_selection import train_test_split\n",
    "from sklearn.linear_model import LogisticRegression\n",
    "from sklearn.ensemble import RandomForestClassifier, GradientBoostingClassifier\n",
    "from sklearn.model_selection import train_test_split, GridSearchCV\n",
    "from sklearn.metrics import accuracy_score, precision_score, recall_score, f1_score, roc_curve, auc\n",
    "# from sklearn.metrics import precision_recall_curve, confusion_matrix, classification_report\n",
    "from sklearn.metrics import accuracy_score, confusion_matrix, precision_recall_curve\n",
    "from sklearn.preprocessing import label_binarize\n",
    "from sklearn.ensemble import RandomForestClassifier\n"
   ]
  },
  {
   "cell_type": "markdown",
   "metadata": {},
   "source": [
    "<b>Task:</b> Use the rest of this notebook to carry out your project plan. \n",
    "\n",
    "You will:\n",
    "\n",
    "1. Prepare your data for your model.\n",
    "2. Fit your model to the training data and evaluate your model.\n",
    "3. Improve your model's performance by performing model selection and/or feature selection techniques to find best model for your problem.\n",
    "\n",
    "Add code cells below and populate the notebook with commentary, code, analyses, results, and figures as you see fit. "
   ]
  },
  {
   "cell_type": "code",
   "execution_count": 20,
   "metadata": {},
   "outputs": [],
   "source": [
    "# YOUR CODE HERE\n",
    "# defining label and features\n",
    "le = LabelEncoder() #encoding label to numerical values\n",
    "X = df.drop(columns = ['education', 'education_binary', 'education-num-winz'])\n",
    "y = le.fit_transform(df['education_binary'])  # Converts to 0, 1"
   ]
  },
  {
   "cell_type": "code",
   "execution_count": 21,
   "metadata": {},
   "outputs": [],
   "source": [
    "#Create Training and Test Data Sets\n",
    "X_train, X_test, y_train, y_test = train_test_split(X, y, test_size=0.3, random_state=42)"
   ]
  },
  {
   "cell_type": "code",
   "execution_count": 22,
   "metadata": {},
   "outputs": [
    {
     "name": "stdout",
     "output_type": "stream",
     "text": [
      "0    12509\n",
      "1    10283\n",
      "dtype: int64\n"
     ]
    }
   ],
   "source": [
    "#checking for training label counts \n",
    "print(pd.Series(y_train).value_counts())"
   ]
  },
  {
   "cell_type": "code",
   "execution_count": 23,
   "metadata": {},
   "outputs": [
    {
     "name": "stdout",
     "output_type": "stream",
     "text": [
      "Imbalance Ratio: 1.2\n"
     ]
    }
   ],
   "source": [
    "#checking hte imbalance ratio\n",
    "class_counts = df['education_binary'].value_counts()\n",
    "imbalance_ratio = class_counts.max() / class_counts.min()\n",
    "print(f\"Imbalance Ratio: {imbalance_ratio:.1f}\")\n"
   ]
  },
  {
   "cell_type": "markdown",
   "metadata": {},
   "source": [
    "The imbalance ratio of 1.2 indicates a relatively balanced dataset, as the majority class (\"College Degree\") is only 1.2 times larger than the minority class (\"No College Degree\"). This mild imbalance is unlikely to significantly bias the model, so techniques like oversampling or weighted classes (class_weight='balanced') were sufficient to ensure fair performance. No aggressive upsampling or downsampling (e.g. SMOTE) was needed."
   ]
  },
  {
   "cell_type": "markdown",
   "metadata": {},
   "source": [
    "## Logistic regression with grid search"
   ]
  },
  {
   "cell_type": "code",
   "execution_count": 24,
   "metadata": {},
   "outputs": [
    {
     "name": "stdout",
     "output_type": "stream",
     "text": [
      "Training Logistic Regression...\n",
      "Done\n"
     ]
    }
   ],
   "source": [
    "# Logistic Regression with Grid Search\n",
    "print(\"Training Logistic Regression...\")\n",
    "\n",
    "# Create a LogisticRegression model \n",
    "model = LogisticRegression(max_iter=1000, class_weight='balanced')\n",
    "\n",
    "# Parameter grid\n",
    "cs = [10**i for i in range(-5,5)]\n",
    "param_grid = {'C' : cs}\n",
    "\n",
    "#Run a grid search with 5-fold cross-validation\n",
    "grid = GridSearchCV(estimator = model, param_grid=param_grid, cv=5, scoring='accuracy')\n",
    "\n",
    "#Fit the model on the training data and assign the fitted model to variable 'grid_search'\n",
    "grid_search = grid.fit(X_train, y_train)\n",
    "\n",
    "print('Done')"
   ]
  },
  {
   "cell_type": "code",
   "execution_count": 25,
   "metadata": {},
   "outputs": [],
   "source": [
    "#retreive best c\n",
    "best_C = grid_search.best_params_['C']"
   ]
  },
  {
   "cell_type": "code",
   "execution_count": 26,
   "metadata": {},
   "outputs": [
    {
     "data": {
      "text/plain": [
       "LogisticRegression(C=1, class_weight='balanced', dual=False, fit_intercept=True,\n",
       "                   intercept_scaling=1, l1_ratio=None, max_iter=1000,\n",
       "                   multi_class='auto', n_jobs=None, penalty='l2',\n",
       "                   random_state=None, solver='lbfgs', tol=0.0001, verbose=0,\n",
       "                   warm_start=False)"
      ]
     },
     "execution_count": 26,
     "metadata": {},
     "output_type": "execute_result"
    }
   ],
   "source": [
    "#training best LR model\n",
    "best_lr = LogisticRegression(C = best_C, max_iter = 1000, class_weight='balanced')\n",
    "best_lr.fit(X_train, y_train)"
   ]
  },
  {
   "cell_type": "code",
   "execution_count": 27,
   "metadata": {},
   "outputs": [],
   "source": [
    "# Make predictions on the test data using the predict_proba() method\n",
    "proba_predictions_lr = best_lr.predict_proba(X_test)[:,1]"
   ]
  },
  {
   "cell_type": "code",
   "execution_count": 28,
   "metadata": {},
   "outputs": [],
   "source": [
    "fpr_lr, tpr_lr, thresholds_lr = roc_curve(y_test,proba_predictions_lr)# YOUR CODE HERE"
   ]
  },
  {
   "cell_type": "code",
   "execution_count": 29,
   "metadata": {},
   "outputs": [
    {
     "data": {
      "text/plain": [
       "<matplotlib.legend.Legend at 0x79d240812438>"
      ]
     },
     "execution_count": 29,
     "metadata": {},
     "output_type": "execute_result"
    },
    {
     "data": {
      "image/png": "[encoded data removed]",
      "text/plain": [
       "<Figure size 720x576 with 1 Axes>"
      ]
     },
     "metadata": {
      "needs_background": "light"
     },
     "output_type": "display_data"
    }
   ],
   "source": [
    "#plotting roc curve\n",
    "fig = plt.figure(figsize=(10, 8))\n",
    "ax = fig.add_subplot(111)\n",
    "sns.lineplot(x=fpr_lr, y=tpr_lr, marker='o', color='magenta',\n",
    "label='Default Hyperparameter', ax=ax)\n",
    "plt.plot([0, 1], [0, 1], linestyle='--', color='gray', label='RandomGuess') # Diagonal line\n",
    "plt.title(\"Receiver operating characteristic (ROC) curve for Logistic regression\")\n",
    "plt.xlabel(\"False positive rate\")\n",
    "plt.ylabel(\"True positive rate\")\n",
    "plt.legend()"
   ]
  },
  {
   "cell_type": "code",
   "execution_count": 30,
   "metadata": {},
   "outputs": [
    {
     "name": "stdout",
     "output_type": "stream",
     "text": [
      "0.7771494609065308\n"
     ]
    }
   ],
   "source": [
    "auc_lr = auc( fpr_lr, tpr_lr )\n",
    "print(auc_lr)"
   ]
  },
  {
   "cell_type": "markdown",
   "metadata": {},
   "source": [
    "### Random Forest with GridSearch"
   ]
  },
  {
   "cell_type": "code",
   "execution_count": 31,
   "metadata": {},
   "outputs": [
    {
     "name": "stdout",
     "output_type": "stream",
     "text": [
      "Training Random Forest Classifier...\n",
      "Fitting 5 folds for each of 4 candidates, totalling 20 fits\n"
     ]
    },
    {
     "name": "stderr",
     "output_type": "stream",
     "text": [
      "[Parallel(n_jobs=1)]: Using backend SequentialBackend with 1 concurrent workers.\n",
      "[Parallel(n_jobs=1)]: Done  20 out of  20 | elapsed:   34.0s finished\n"
     ]
    },
    {
     "name": "stdout",
     "output_type": "stream",
     "text": [
      "Done\n"
     ]
    }
   ],
   "source": [
    "# Random Forest with Grid Search\n",
    "print(\"Training Random Forest Classifier...\")\n",
    "\n",
    "# Create the base RandomForestClassifier model\n",
    "rf_model = RandomForestClassifier(random_state=42, class_weight='balanced')\n",
    "\n",
    "# Define the parameter grid with only the taught hyperparameters\n",
    "param_grid = { 'n_estimators': [50, 100], \n",
    "              'max_depth': [10, 20]}\n",
    "\n",
    "# Create GridSearchCV object\n",
    "grid_search_rf= GridSearchCV(estimator=rf_model, param_grid=param_grid, cv=5, scoring='accuracy', verbose=1)\n",
    "\n",
    "# Fit the grid search to the training data\n",
    "grid_search_rf.fit(X_train, y_train)\n",
    "\n",
    "print('Done')\n"
   ]
  },
  {
   "cell_type": "code",
   "execution_count": 32,
   "metadata": {},
   "outputs": [],
   "source": [
    "best_n_estimators = grid_search_rf.best_params_['n_estimators']\n",
    "best_max_depth = grid_search_rf.best_params_['max_depth']"
   ]
  },
  {
   "cell_type": "code",
   "execution_count": 33,
   "metadata": {},
   "outputs": [
    {
     "data": {
      "text/plain": [
       "RandomForestClassifier(bootstrap=True, ccp_alpha=0.0, class_weight=None,\n",
       "                       criterion='gini', max_depth=20, max_features='auto',\n",
       "                       max_leaf_nodes=None, max_samples=None,\n",
       "                       min_impurity_decrease=0.0, min_impurity_split=None,\n",
       "                       min_samples_leaf=3, min_samples_split=5,\n",
       "                       min_weight_fraction_leaf=0.0, n_estimators=100,\n",
       "                       n_jobs=None, oob_score=False, random_state=123,\n",
       "                       verbose=0, warm_start=False)"
      ]
     },
     "execution_count": 33,
     "metadata": {},
     "output_type": "execute_result"
    }
   ],
   "source": [
    "# Train best model\n",
    "best_rf = RandomForestClassifier(n_estimators = best_n_estimators, max_depth = best_max_depth, min_samples_split = 5, min_samples_leaf = 3, random_state = 123)\n",
    "\n",
    "best_rf.fit(X_train, y_train)"
   ]
  },
  {
   "cell_type": "code",
   "execution_count": 34,
   "metadata": {},
   "outputs": [],
   "source": [
    "# Make probability predictions on test data\n",
    "proba_predictions_rf = best_rf.predict_proba(X_test) [:,1]"
   ]
  },
  {
   "cell_type": "code",
   "execution_count": 35,
   "metadata": {},
   "outputs": [],
   "source": [
    "fpr_rf, tpr_rf, thresholds_rf = roc_curve(y_test,proba_predictions_rf)"
   ]
  },
  {
   "cell_type": "code",
   "execution_count": 36,
   "metadata": {},
   "outputs": [
    {
     "data": {
      "text/plain": [
       "<matplotlib.legend.Legend at 0x79d1ea20efd0>"
      ]
     },
     "execution_count": 36,
     "metadata": {},
     "output_type": "execute_result"
    },
    {
     "data": {
      "image/png": "[encoded data removed]",
      "text/plain": [
       "<Figure size 720x576 with 1 Axes>"
      ]
     },
     "metadata": {
      "needs_background": "light"
     },
     "output_type": "display_data"
    }
   ],
   "source": [
    "#plotting roc curve\n",
    "fig = plt.figure(figsize=(10, 8))\n",
    "ax = fig.add_subplot(111)\n",
    "sns.lineplot(x=fpr_rf, y=tpr_rf, marker='o', color='magenta',\n",
    "label='Default Hyperparameter', ax=ax)\n",
    "plt.plot([0, 1], [0, 1], linestyle='--', color='gray', label='RandomGuess') # Diagonal line\n",
    "plt.title(\"Receiver operating characteristic (ROC) curve for Random forest\")\n",
    "plt.xlabel(\"False positive rate\")\n",
    "plt.ylabel(\"True positive rate\")\n",
    "plt.legend()"
   ]
  },
  {
   "cell_type": "code",
   "execution_count": 37,
   "metadata": {},
   "outputs": [
    {
     "name": "stdout",
     "output_type": "stream",
     "text": [
      "0.7959332568874924\n"
     ]
    }
   ],
   "source": [
    "#acc score\n",
    "auc_rf = auc( fpr_rf, tpr_rf )\n",
    "print(auc_rf)"
   ]
  },
  {
   "cell_type": "markdown",
   "metadata": {},
   "source": [
    "Random Forest slightly outperformed Logistic Regression (AUC-ROC 0.79 vs 0.77) due to its ability to capture non-linear feature relationships, identify key predictors like income and occupation, and maintain robustness against overfitting - making it the preferred model despite the marginal performance difference."
   ]
  },
  {
   "cell_type": "markdown",
   "metadata": {},
   "source": [
    "#### Selecting the best features for Random Forest"
   ]
  },
  {
   "cell_type": "code",
   "execution_count": 38,
   "metadata": {},
   "outputs": [
    {
     "data": {
      "image/png": "[encoded data removed]",
      "text/plain": [
       "<Figure size 720x576 with 1 Axes>"
      ]
     },
     "metadata": {
      "needs_background": "light"
     },
     "output_type": "display_data"
    }
   ],
   "source": [
    "# Feature Importance\n",
    "rf_importance = best_rf.feature_importances_\n",
    "features_rf = pd.DataFrame({\n",
    "    'Feature': X_train.columns,\n",
    "    'Importance': rf_importance\n",
    "}).sort_values('Importance', ascending=False)\n",
    "\n",
    "# Plot top 20 features\n",
    "plt.figure(figsize=(10, 8))\n",
    "sns.barplot(x='Importance', y='Feature', data=features_rf.head(20),palette='viridis')\n",
    "plt.title('Random Forest Feature Importance (Top 20)')\n",
    "plt.show()"
   ]
  },
  {
   "cell_type": "code",
   "execution_count": 39,
   "metadata": {},
   "outputs": [
    {
     "name": "stdout",
     "output_type": "stream",
     "text": [
      "Best * features:\n",
      "Index(['capital-gain', 'capital-loss', 'hours-per-week',\n",
      "       'workclass_Self-emp-inc', 'occupation_Craft-repair',\n",
      "       'occupation_Exec-managerial', 'occupation_Farming-fishing',\n",
      "       'occupation_Handlers-cleaners', 'occupation_Machine-op-inspct',\n",
      "       'occupation_Other-service', 'occupation_Prof-specialty',\n",
      "       'occupation_Tech-support', 'occupation_Transport-moving',\n",
      "       'relationship_Other-relative', 'relationship_Unmarried',\n",
      "       'race_Asian-Pac-Islander', 'race_Black', 'native-country_Mexico',\n",
      "       'income_binary_<=50K', 'income_binary_>50K'],\n",
      "      dtype='object')\n",
      "0.7683957197759244\n"
     ]
    }
   ],
   "source": [
    "from sklearn.feature_selection import SelectKBest\n",
    "from sklearn.feature_selection import f_classif\n",
    "\n",
    "#the top 5 features\n",
    "selector = SelectKBest(f_classif, k= 20)\n",
    "selector.fit(X, y)\n",
    "filter = selector.get_support()\n",
    "top_features = X.columns[filter]\n",
    "print(\"Best * features:\")\n",
    "print(top_features)\n",
    "\n",
    "# Create new training and test data for features\n",
    "new_X_train = X_train[top_features]\n",
    "new_X_test = X_test[top_features]\n",
    "\n",
    "# Initialize a LogisticRegression model object \n",
    "model_newrf = RandomForestClassifier(n_estimators = best_n_estimators, max_depth = best_max_depth, min_samples_split = 5, min_samples_leaf = 3, random_state = 123, class_weight='balanced')\n",
    "#model_newrf = RandomForestClassifier(n_estimators = best_n_estimators, max_depth = best_max_depth, min_samples_split = 2, random_state=123, class_weight='balanced')\n",
    "\n",
    "# Fit the model to the new training data\n",
    "model_newrf.fit(new_X_train, y_train)\n",
    "\n",
    "\n",
    "# Use the predict_proba() method to use your model to make predictions on the new test data\n",
    "proba_predictions_new = model_newrf.predict_proba(new_X_test)[:,1]\n",
    "\n",
    "# Compute the auc-roc\n",
    "fpr, tpr, thresholds = roc_curve(y_test, proba_predictions_new)\n",
    "auc_result = auc(fpr, tpr)\n",
    "print(auc_result)"
   ]
  },
  {
   "cell_type": "markdown",
   "metadata": {},
   "source": [
    "### Model Selection and Optimization Analysis"
   ]
  },
  {
   "cell_type": "markdown",
   "metadata": {},
   "source": [
    "Through systematic experimentation, we determined the optimal modeling approach by first exploring multiclass classification of education levels, which proved challenging due to class imbalance and lower accuracy. We strategically pivoted to binary classification (predicting \"college\" vs. \"no college\"), achieving better performance that aligned with our objectives. Our feature selection analysis revealed that while the top 10 features provided 0.75 accuracy and top 20 features provided 0.77 accuracy, peak performance (0.79) required all 53 features, indicating each contributed meaningful information. For hyperparameter optimization, we identified min_samples_split=5 and min_samples_leaf=3 as optimal Random Forest settings through grid search but manually entered the value because of the long time it took to run the model with addition hyperparameters in the grid, balancing model complexity with generalization while preventing overfitting. After evaluating multiple approaches - rejecting Decision Trees as too simplistic and Gradient Boosting as overly complex - we selected Random Forest for its superior 0.79 AUC, robust feature interaction handling, and interpretable feature importance. This carefully tuned binary classification approach outperformed our initial multiclass attempt, delivering both higher accuracy and more actionable results through systematic feature and parameter testing. The final configuration demonstrates an effective balance of predictive power, computational efficiency, and generalization capability for our use case."
   ]
  },
  {
   "cell_type": "markdown",
   "metadata": {},
   "source": [
    "## Make Model Persistent"
   ]
  },
  {
   "cell_type": "code",
   "execution_count": 40,
   "metadata": {},
   "outputs": [],
   "source": [
    "import pickle"
   ]
  },
  {
   "cell_type": "code",
   "execution_count": 41,
   "metadata": {},
   "outputs": [],
   "source": [
    "with open(\"best_education.pkl\", \"wb\") as f:\n",
    " pickle.dump(best_rf, f)"
   ]
  },
  {
   "cell_type": "code",
   "execution_count": 42,
   "metadata": {},
   "outputs": [
    {
     "name": "stdout",
     "output_type": "stream",
     "text": [
      "['No College Degree', 'No College Degree', 'No College Degree', 'College Degree', 'College Degree', 'No College Degree', 'No College Degree', 'No College Degree', 'College Degree', 'College Degree', 'No College Degree', 'College Degree', 'No College Degree', 'No College Degree', 'College Degree', 'No College Degree', 'No College Degree', 'No College Degree', 'No College Degree', 'No College Degree']\n"
     ]
    }
   ],
   "source": [
    "#model back from the file\n",
    "with open(\"best_education.pkl\", \"rb\") as f:\n",
    " loaded_model = pickle.load(f)\n",
    "# Use the loaded model to make predictions on X_test\n",
    "predictions = loaded_model.predict(X_test)\n",
    "\n",
    "# mapping predictions\n",
    "mapping = {0: 'No College Degree', 1: 'College Degree'}\n",
    "edu_predictions = [mapping[p] for p in predictions]\n",
    "print(edu_predictions[:20])\n"
   ]
  }
 ],
 "metadata": {
  "kernelspec": {
   "display_name": "Python 3",
   "language": "python",
   "name": "python3"
  },
  "toc": {
   "base_numbering": 1,
   "nav_menu": {},
   "number_sections": false,
   "sideBar": true,
   "skip_h1_title": false,
   "title_cell": "Table of Contents",
   "title_sidebar": "Contents",
   "toc_cell": false,
   "toc_position": {},
   "toc_section_display": true,
   "toc_window_display": false
  },
  "varInspector": {
   "cols": {
    "lenName": 16,
    "lenType": 16,
    "lenVar": 40
   },
   "kernels_config": {
    "python": {
     "delete_cmd_postfix": "",
     "delete_cmd_prefix": "del ",
     "library": "var_list.py",
     "varRefreshCmd": "print(var_dic_list())"
    },
    "r": {
     "delete_cmd_postfix": ") ",
     "delete_cmd_prefix": "rm(",
     "library": "var_list.r",
     "varRefreshCmd": "cat(var_dic_list()) "
    }
   },
   "types_to_exclude": [
    "module",
    "function",
    "builtin_function_or_method",
    "instance",
    "_Feature"
   ],
   "window_display": false
  }
 },
 "nbformat": 4,
 "nbformat_minor": 4
}
